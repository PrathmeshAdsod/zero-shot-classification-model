{
 "cells": [
  {
   "cell_type": "markdown",
   "id": "b35b7f50",
   "metadata": {},
   "source": [
    "### Transformers typically have their use case in Natural Language Processing. Unlike RNN, which work on data sequencially one at a time, transformers process it in parallal way. \n",
    "### It have concept of attention.\n",
    "### Hugging Face library is open-source having pre-trained transformers models for variaus NLP tasks."
   ]
  },
  {
   "cell_type": "markdown",
   "id": "6a40f3f0",
   "metadata": {},
   "source": [
    "# Import required libraries"
   ]
  },
  {
   "cell_type": "code",
   "execution_count": 3,
   "id": "9382c33f",
   "metadata": {},
   "outputs": [],
   "source": [
    "from transformers import pipeline"
   ]
  },
  {
   "cell_type": "markdown",
   "id": "2469f64c",
   "metadata": {},
   "source": [
    "There are multiple pipelines present in Hugging Face Library.\n",
    "zero-shot-classification is one of them."
   ]
  },
  {
   "cell_type": "markdown",
   "id": "5a9a1628",
   "metadata": {},
   "source": [
    "# Using Hugging Face for transformer implementation"
   ]
  },
  {
   "cell_type": "markdown",
   "id": "89b6bd1a",
   "metadata": {},
   "source": [
    "### We will do task of zero-shot-classification, in which we classify scores on basis of labels\n",
    "### gpt2 model is used in this task"
   ]
  },
  {
   "cell_type": "code",
   "execution_count": 4,
   "id": "3ed307b3",
   "metadata": {},
   "outputs": [
    {
     "data": {
      "application/vnd.jupyter.widget-view+json": {
       "model_id": "48c86b44d1b0479e910b874537a5737d",
       "version_major": 2,
       "version_minor": 0
      },
      "text/plain": [
       "Downloading tf_model.h5:   0%|          | 0.00/498M [00:00<?, ?B/s]"
      ]
     },
     "metadata": {},
     "output_type": "display_data"
    },
    {
     "name": "stderr",
     "output_type": "stream",
     "text": [
      "c:\\users\\ovi\\appdata\\local\\programs\\python\\python39\\lib\\site-packages\\huggingface_hub\\file_download.py:133: UserWarning: `huggingface_hub` cache-system uses symlinks by default to efficiently store duplicated files but your machine does not support them in C:\\Users\\Ovi\\.cache\\huggingface\\hub. Caching files will still work but in a degraded version that might require more space on your disk. This warning can be disabled by setting the `HF_HUB_DISABLE_SYMLINKS_WARNING` environment variable. For more details, see https://huggingface.co/docs/huggingface_hub/how-to-cache#limitations.\n",
      "To support symlinks on Windows, you either need to activate Developer Mode or to run Python as an administrator. In order to see activate developer mode, see this article: https://docs.microsoft.com/en-us/windows/apps/get-started/enable-your-device-for-development\n",
      "  warnings.warn(message)\n",
      "All model checkpoint layers were used when initializing TFGPT2ForSequenceClassification.\n",
      "\n",
      "Some layers of TFGPT2ForSequenceClassification were not initialized from the model checkpoint at gpt2 and are newly initialized: ['score']\n",
      "You should probably TRAIN this model on a down-stream task to be able to use it for predictions and inference.\n"
     ]
    },
    {
     "data": {
      "application/vnd.jupyter.widget-view+json": {
       "model_id": "f7de6ea100b64c56ab279e8f264d250b",
       "version_major": 2,
       "version_minor": 0
      },
      "text/plain": [
       "Downloading (…)olve/main/vocab.json:   0%|          | 0.00/1.04M [00:00<?, ?B/s]"
      ]
     },
     "metadata": {},
     "output_type": "display_data"
    },
    {
     "data": {
      "application/vnd.jupyter.widget-view+json": {
       "model_id": "c9f001619ab64d9e919f318c24721e9a",
       "version_major": 2,
       "version_minor": 0
      },
      "text/plain": [
       "Downloading (…)olve/main/merges.txt:   0%|          | 0.00/456k [00:00<?, ?B/s]"
      ]
     },
     "metadata": {},
     "output_type": "display_data"
    },
    {
     "data": {
      "application/vnd.jupyter.widget-view+json": {
       "model_id": "533552cf36e24e3990d80e3f6dad1fdb",
       "version_major": 2,
       "version_minor": 0
      },
      "text/plain": [
       "Downloading (…)/main/tokenizer.json:   0%|          | 0.00/1.36M [00:00<?, ?B/s]"
      ]
     },
     "metadata": {},
     "output_type": "display_data"
    },
    {
     "name": "stderr",
     "output_type": "stream",
     "text": [
      "Failed to determine 'entailment' label id from the label2id mapping in the model config. Setting to -1. Define a descriptive label2id mapping in the model config to ensure correct outputs.\n"
     ]
    }
   ],
   "source": [
    "classifier = pipeline(task = \"zero-shot-classification\", model = \"gpt2\")"
   ]
  },
  {
   "cell_type": "markdown",
   "id": "d935520c",
   "metadata": {},
   "source": [
    "## Taking data into the list and labels in list "
   ]
  },
  {
   "cell_type": "code",
   "execution_count": 30,
   "id": "df251ddd",
   "metadata": {},
   "outputs": [],
   "source": [
    "emotions = [\"I am feeling good today\", \"I am interested in this matter\", \"Today was very hectic day, I am so tired\", \"I love her so much, but fear to express to her\", \"I love you\"]\n",
    "labels = [\"happy\", \"excited\", \"angry\"]"
   ]
  },
  {
   "cell_type": "markdown",
   "id": "d6470cad",
   "metadata": {},
   "source": [
    "We will print all the emotions and its score results one by one"
   ]
  },
  {
   "cell_type": "markdown",
   "id": "b88b15c8",
   "metadata": {},
   "source": [
    "# Result"
   ]
  },
  {
   "cell_type": "code",
   "execution_count": 33,
   "id": "92b7337c",
   "metadata": {
    "scrolled": true
   },
   "outputs": [
    {
     "name": "stdout",
     "output_type": "stream",
     "text": [
      "{'sequence': 'I am feeling good today', 'labels': ['excited', 'angry', 'happy'], 'scores': [0.3609195053577423, 0.3271031081676483, 0.3119773864746094]}\n",
      "\n",
      "{'sequence': 'I am interested in this matter', 'labels': ['excited', 'happy', 'angry'], 'scores': [0.35585951805114746, 0.35382458567619324, 0.2903158962726593]}\n",
      "\n",
      "{'sequence': 'Today was very hectic day, I am so tired', 'labels': ['angry', 'happy', 'excited'], 'scores': [0.3369179666042328, 0.33615562319755554, 0.32692641019821167]}\n",
      "\n",
      "{'sequence': 'I love her so much, but fear to express to her', 'labels': ['excited', 'happy', 'angry'], 'scores': [0.33938926458358765, 0.33438214659690857, 0.32622861862182617]}\n",
      "\n",
      "{'sequence': 'I love you', 'labels': ['excited', 'happy', 'angry'], 'scores': [0.37342044711112976, 0.3221648931503296, 0.30441462993621826]}\n",
      "\n"
     ]
    }
   ],
   "source": [
    "for word in range(len(emotions)) : \n",
    "    result = classifier(emotions[word], labels)\n",
    "    print(result)\n",
    "    print()"
   ]
  },
  {
   "cell_type": "code",
   "execution_count": null,
   "id": "1b6b2980",
   "metadata": {},
   "outputs": [],
   "source": []
  }
 ],
 "metadata": {
  "kernelspec": {
   "display_name": "Python 3 (ipykernel)",
   "language": "python",
   "name": "python3"
  },
  "language_info": {
   "codemirror_mode": {
    "name": "ipython",
    "version": 3
   },
   "file_extension": ".py",
   "mimetype": "text/x-python",
   "name": "python",
   "nbconvert_exporter": "python",
   "pygments_lexer": "ipython3",
   "version": "3.9.1"
  }
 },
 "nbformat": 4,
 "nbformat_minor": 5
}
